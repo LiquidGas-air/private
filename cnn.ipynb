{
 "metadata": {
  "language_info": {
   "codemirror_mode": {
    "name": "ipython",
    "version": 3
   },
   "file_extension": ".py",
   "mimetype": "text/x-python",
   "name": "python",
   "nbconvert_exporter": "python",
   "pygments_lexer": "ipython3",
   "version": "3.8.6"
  },
  "orig_nbformat": 2,
  "kernelspec": {
   "name": "python386jvsc74a57bd01baa965d5efe3ac65b79dfc60c0d706280b1da80fedb7760faf2759126c4f253",
   "display_name": "Python 3.8.6 64-bit"
  }
 },
 "nbformat": 4,
 "nbformat_minor": 2,
 "cells": [
  {
   "cell_type": "code",
   "execution_count": 43,
   "metadata": {},
   "outputs": [],
   "source": [
    "import os\n",
    "import numpy as np\n",
    "import matplotlib.pyplot as plt\n",
    "from tensorflow import keras\n",
    "from tensorflow.keras.layers import Dense, Flatten, Dropout, Conv2D, MaxPooling2D, Conv2D\n",
    "from tensorflow.keras.preprocessing.image import ImageDataGenerator\n",
    "from PIL import Image\n",
    "from io import BytesIO"
   ]
  },
  {
   "cell_type": "code",
   "execution_count": 28,
   "metadata": {},
   "outputs": [
    {
     "output_type": "stream",
     "name": "stdout",
     "text": [
      "Found 4828 files belonging to 4 classes.\n",
      "Found 4797 files belonging to 4 classes.\n"
     ]
    }
   ],
   "source": [
    "path= os.walk('./images/Images_of_Waste/test')\n",
    "categ= ['AluCan', 'Glass', 'HDPEM', 'PET']\n",
    "test_m= keras.preprocessing.image_dataset_from_directory(directory='./images/Images_of_Waste/test',labels='inferred', label_mode='categorical', color_mode='rgb', image_size=(50,50))\n",
    "train_m= keras.preprocessing.image_dataset_from_directory(directory='./images/Images_of_Waste/train',labels='inferred', label_mode='categorical', color_mode='rgb', image_size=(50,50) )"
   ]
  },
  {
   "cell_type": "code",
   "execution_count": 5,
   "metadata": {},
   "outputs": [
    {
     "output_type": "stream",
     "name": "stdout",
     "text": [
      "['AluCan', 'Glass', 'HDPEM', 'PET']\n"
     ]
    }
   ],
   "source": [
    "print(test_m.class_names)"
   ]
  },
  {
   "cell_type": "code",
   "execution_count": 34,
   "metadata": {},
   "outputs": [
    {
     "output_type": "stream",
     "name": "stdout",
     "text": [
      "Model: \"sequential_16\"\n_________________________________________________________________\nLayer (type)                 Output Shape              Param #   \n=================================================================\nconv2d_52 (Conv2D)           (None, 50, 50, 32)        2432      \n_________________________________________________________________\nconv2d_53 (Conv2D)           (None, 50, 50, 64)        51264     \n_________________________________________________________________\nmax_pooling2d_45 (MaxPooling (None, 25, 25, 64)        0         \n_________________________________________________________________\nconv2d_54 (Conv2D)           (None, 25, 25, 64)        16448     \n_________________________________________________________________\nmax_pooling2d_46 (MaxPooling (None, 12, 12, 64)        0         \n_________________________________________________________________\nflatten_16 (Flatten)         (None, 9216)              0         \n_________________________________________________________________\ndense_38 (Dense)             (None, 64)                589888    \n_________________________________________________________________\ndense_39 (Dense)             (None, 4)                 260       \n=================================================================\nTotal params: 660,292\nTrainable params: 660,292\nNon-trainable params: 0\n_________________________________________________________________\nNone\n"
     ]
    }
   ],
   "source": [
    "model = keras.Sequential([\n",
    "    Conv2D(32, (5,5), padding='same', activation='relu', input_shape=(50,50, 3)),\n",
    "    Conv2D(64, (5,5), padding='same', activation='relu'),\n",
    "    MaxPooling2D((2, 2), strides=2),\n",
    "    Conv2D(64, (2,2), padding='same', activation='relu'),\n",
    "    MaxPooling2D((2, 2), strides=2),\n",
    "    Flatten(),\n",
    "    Dense(64, activation='relu'),\n",
    "    Dense(4,  activation='softmax')\n",
    "])\n",
    "\n",
    "print(model.summary())      # вывод структуры НС в консоль\n",
    "\n",
    "model.compile(optimizer='adam',\n",
    "             loss='categorical_crossentropy',\n",
    "             metrics=['accuracy'])\n",
    "\n",
    "\n",
    "#his = model.fit(,, batch_size=32, epochs=5, validation_split=0.2)\n",
    "\n",
    "#model.evaluate(x_test, y_test_cat)"
   ]
  },
  {
   "cell_type": "code",
   "execution_count": 36,
   "metadata": {},
   "outputs": [
    {
     "output_type": "stream",
     "name": "stdout",
     "text": [
      "Epoch 1/10\n",
      "150/150 [==============================] - 68s 447ms/step - loss: 0.4525 - accuracy: 0.8272\n",
      "Epoch 2/10\n",
      "150/150 [==============================] - 68s 447ms/step - loss: 0.3564 - accuracy: 0.8685\n",
      "Epoch 3/10\n",
      "150/150 [==============================] - 68s 447ms/step - loss: 0.3291 - accuracy: 0.8808\n",
      "Epoch 4/10\n",
      "150/150 [==============================] - 68s 446ms/step - loss: 0.2338 - accuracy: 0.9160\n",
      "Epoch 5/10\n",
      "150/150 [==============================] - 68s 448ms/step - loss: 0.1740 - accuracy: 0.9393\n",
      "Epoch 6/10\n",
      "150/150 [==============================] - 68s 446ms/step - loss: 0.2071 - accuracy: 0.9256\n",
      "Epoch 7/10\n",
      "150/150 [==============================] - 68s 446ms/step - loss: 0.1764 - accuracy: 0.9398\n",
      "Epoch 8/10\n",
      "150/150 [==============================] - 68s 446ms/step - loss: 0.1810 - accuracy: 0.9387\n",
      "Epoch 9/10\n",
      "150/150 [==============================] - 68s 446ms/step - loss: 0.1519 - accuracy: 0.9477\n",
      "Epoch 10/10\n",
      "150/150 [==============================] - 68s 446ms/step - loss: 0.1796 - accuracy: 0.9356\n"
     ]
    },
    {
     "output_type": "execute_result",
     "data": {
      "text/plain": [
       "<tensorflow.python.keras.callbacks.History at 0x23efb50f700>"
      ]
     },
     "metadata": {},
     "execution_count": 36
    }
   ],
   "source": [
    "model.fit(train_m, batch_size=32, epochs=10)"
   ]
  },
  {
   "cell_type": "code",
   "execution_count": 38,
   "metadata": {},
   "outputs": [
    {
     "output_type": "stream",
     "name": "stdout",
     "text": [
      "INFO:tensorflow:Assets written to: ./models\\assets\n"
     ]
    }
   ],
   "source": [
    "model.save(\n",
    "    './models',\n",
    "    overwrite=True,\n",
    "    include_optimizer=True,\n",
    "    save_format=None,\n",
    "    signatures=None,\n",
    "    options=None,\n",
    "    save_traces=True,\n",
    ")"
   ]
  },
  {
   "source": [
    "img = Image.open('./images/Images_of_Waste/test/Glass/Glass15.JPG')"
   ],
   "cell_type": "code",
   "metadata": {},
   "execution_count": 50,
   "outputs": []
  },
  {
   "cell_type": "code",
   "execution_count": 88,
   "metadata": {},
   "outputs": [
    {
     "output_type": "display_data",
     "data": {
      "text/plain": "<Figure size 432x288 with 1 Axes>",
      "image/svg+xml": "<?xml version=\"1.0\" encoding=\"utf-8\" standalone=\"no\"?>\r\n<!DOCTYPE svg PUBLIC \"-//W3C//DTD SVG 1.1//EN\"\r\n  \"http://www.w3.org/Graphics/SVG/1.1/DTD/svg11.dtd\">\r\n<!-- Created with matplotlib (https://matplotlib.org/) -->\r\n<svg height=\"250.142944pt\" version=\"1.1\" viewBox=\"0 0 251.565 250.142944\" width=\"251.565pt\" xmlns=\"http://www.w3.org/2000/svg\" xmlns:xlink=\"http://www.w3.org/1999/xlink\">\r\n <metadata>\r\n  <rdf:RDF xmlns:cc=\"http://creativecommons.org/ns#\" xmlns:dc=\"http://purl.org/dc/elements/1.1/\" xmlns:rdf=\"http://www.w3.org/1999/02/22-rdf-syntax-ns#\">\r\n   <cc:Work>\r\n    <dc:type rdf:resource=\"http://purl.org/dc/dcmitype/StillImage\"/>\r\n    <dc:date>2021-04-25T16:24:31.048855</dc:date>\r\n    <dc:format>image/svg+xml</dc:format>\r\n    <dc:creator>\r\n     <cc:Agent>\r\n      <dc:title>Matplotlib v3.3.2, https://matplotlib.org/</dc:title>\r\n     </cc:Agent>\r\n    </dc:creator>\r\n   </cc:Work>\r\n  </rdf:RDF>\r\n </metadata>\r\n <defs>\r\n  <style type=\"text/css\">*{stroke-linecap:butt;stroke-linejoin:round;}</style>\r\n </defs>\r\n <g id=\"figure_1\">\r\n  <g id=\"patch_1\">\r\n   <path d=\"M 0 250.142944 \r\nL 251.565 250.142944 \r\nL 251.565 0 \r\nL 0 0 \r\nz\r\n\" style=\"fill:none;\"/>\r\n  </g>\r\n  <g id=\"axes_1\">\r\n   <g id=\"patch_2\">\r\n    <path d=\"M 26.925 226.264819 \r\nL 244.365 226.264819 \r\nL 244.365 8.824819 \r\nL 26.925 8.824819 \r\nz\r\n\" style=\"fill:#ffffff;\"/>\r\n   </g>\r\n   <g clip-path=\"url(#p0cf7233418)\">\r\n    <image height=\"218\" id=\"imagea29148c8df\" transform=\"scale(1 -1)translate(0 -218)\" width=\"218\" x=\"26.925\" xlink:href=\"data:image/png;base64,\r\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\" y=\"-8.264819\"/>\r\n   </g>\r\n   <g id=\"matplotlib.axis_1\">\r\n    <g id=\"xtick_1\">\r\n     <g id=\"line2d_1\">\r\n      <defs>\r\n       <path d=\"M 0 0 \r\nL 0 3.5 \r\n\" id=\"m99c0ff60b5\" style=\"stroke:#000000;stroke-width:0.8;\"/>\r\n      </defs>\r\n      <g>\r\n       <use style=\"stroke:#000000;stroke-width:0.8;\" x=\"29.0994\" xlink:href=\"#m99c0ff60b5\" y=\"226.264819\"/>\r\n      </g>\r\n     </g>\r\n     <g id=\"text_1\">\r\n      <!-- 0 -->\r\n      <g transform=\"translate(25.91815 240.863256)scale(0.1 -0.1)\">\r\n       <defs>\r\n        <path d=\"M 31.78125 66.40625 \r\nQ 24.171875 66.40625 20.328125 58.90625 \r\nQ 16.5 51.421875 16.5 36.375 \r\nQ 16.5 21.390625 20.328125 13.890625 \r\nQ 24.171875 6.390625 31.78125 6.390625 \r\nQ 39.453125 6.390625 43.28125 13.890625 \r\nQ 47.125 21.390625 47.125 36.375 \r\nQ 47.125 51.421875 43.28125 58.90625 \r\nQ 39.453125 66.40625 31.78125 66.40625 \r\nz\r\nM 31.78125 74.21875 \r\nQ 44.046875 74.21875 50.515625 64.515625 \r\nQ 56.984375 54.828125 56.984375 36.375 \r\nQ 56.984375 17.96875 50.515625 8.265625 \r\nQ 44.046875 -1.421875 31.78125 -1.421875 \r\nQ 19.53125 -1.421875 13.0625 8.265625 \r\nQ 6.59375 17.96875 6.59375 36.375 \r\nQ 6.59375 54.828125 13.0625 64.515625 \r\nQ 19.53125 74.21875 31.78125 74.21875 \r\nz\r\n\" id=\"DejaVuSans-48\"/>\r\n       </defs>\r\n       <use xlink:href=\"#DejaVuSans-48\"/>\r\n      </g>\r\n     </g>\r\n    </g>\r\n    <g id=\"xtick_2\">\r\n     <g id=\"line2d_2\">\r\n      <g>\r\n       <use style=\"stroke:#000000;stroke-width:0.8;\" x=\"72.5874\" xlink:href=\"#m99c0ff60b5\" y=\"226.264819\"/>\r\n      </g>\r\n     </g>\r\n     <g id=\"text_2\">\r\n      <!-- 10 -->\r\n      <g transform=\"translate(66.2249 240.863256)scale(0.1 -0.1)\">\r\n       <defs>\r\n        <path d=\"M 12.40625 8.296875 \r\nL 28.515625 8.296875 \r\nL 28.515625 63.921875 \r\nL 10.984375 60.40625 \r\nL 10.984375 69.390625 \r\nL 28.421875 72.90625 \r\nL 38.28125 72.90625 \r\nL 38.28125 8.296875 \r\nL 54.390625 8.296875 \r\nL 54.390625 0 \r\nL 12.40625 0 \r\nz\r\n\" id=\"DejaVuSans-49\"/>\r\n       </defs>\r\n       <use xlink:href=\"#DejaVuSans-49\"/>\r\n       <use x=\"63.623047\" xlink:href=\"#DejaVuSans-48\"/>\r\n      </g>\r\n     </g>\r\n    </g>\r\n    <g id=\"xtick_3\">\r\n     <g id=\"line2d_3\">\r\n      <g>\r\n       <use style=\"stroke:#000000;stroke-width:0.8;\" x=\"116.0754\" xlink:href=\"#m99c0ff60b5\" y=\"226.264819\"/>\r\n      </g>\r\n     </g>\r\n     <g id=\"text_3\">\r\n      <!-- 20 -->\r\n      <g transform=\"translate(109.7129 240.863256)scale(0.1 -0.1)\">\r\n       <defs>\r\n        <path d=\"M 19.1875 8.296875 \r\nL 53.609375 8.296875 \r\nL 53.609375 0 \r\nL 7.328125 0 \r\nL 7.328125 8.296875 \r\nQ 12.9375 14.109375 22.625 23.890625 \r\nQ 32.328125 33.6875 34.8125 36.53125 \r\nQ 39.546875 41.84375 41.421875 45.53125 \r\nQ 43.3125 49.21875 43.3125 52.78125 \r\nQ 43.3125 58.59375 39.234375 62.25 \r\nQ 35.15625 65.921875 28.609375 65.921875 \r\nQ 23.96875 65.921875 18.8125 64.3125 \r\nQ 13.671875 62.703125 7.8125 59.421875 \r\nL 7.8125 69.390625 \r\nQ 13.765625 71.78125 18.9375 73 \r\nQ 24.125 74.21875 28.421875 74.21875 \r\nQ 39.75 74.21875 46.484375 68.546875 \r\nQ 53.21875 62.890625 53.21875 53.421875 \r\nQ 53.21875 48.921875 51.53125 44.890625 \r\nQ 49.859375 40.875 45.40625 35.40625 \r\nQ 44.1875 33.984375 37.640625 27.21875 \r\nQ 31.109375 20.453125 19.1875 8.296875 \r\nz\r\n\" id=\"DejaVuSans-50\"/>\r\n       </defs>\r\n       <use xlink:href=\"#DejaVuSans-50\"/>\r\n       <use x=\"63.623047\" xlink:href=\"#DejaVuSans-48\"/>\r\n      </g>\r\n     </g>\r\n    </g>\r\n    <g id=\"xtick_4\">\r\n     <g id=\"line2d_4\">\r\n      <g>\r\n       <use style=\"stroke:#000000;stroke-width:0.8;\" x=\"159.5634\" xlink:href=\"#m99c0ff60b5\" y=\"226.264819\"/>\r\n      </g>\r\n     </g>\r\n     <g id=\"text_4\">\r\n      <!-- 30 -->\r\n      <g transform=\"translate(153.2009 240.863256)scale(0.1 -0.1)\">\r\n       <defs>\r\n        <path d=\"M 40.578125 39.3125 \r\nQ 47.65625 37.796875 51.625 33 \r\nQ 55.609375 28.21875 55.609375 21.1875 \r\nQ 55.609375 10.40625 48.1875 4.484375 \r\nQ 40.765625 -1.421875 27.09375 -1.421875 \r\nQ 22.515625 -1.421875 17.65625 -0.515625 \r\nQ 12.796875 0.390625 7.625 2.203125 \r\nL 7.625 11.71875 \r\nQ 11.71875 9.328125 16.59375 8.109375 \r\nQ 21.484375 6.890625 26.8125 6.890625 \r\nQ 36.078125 6.890625 40.9375 10.546875 \r\nQ 45.796875 14.203125 45.796875 21.1875 \r\nQ 45.796875 27.640625 41.28125 31.265625 \r\nQ 36.765625 34.90625 28.71875 34.90625 \r\nL 20.21875 34.90625 \r\nL 20.21875 43.015625 \r\nL 29.109375 43.015625 \r\nQ 36.375 43.015625 40.234375 45.921875 \r\nQ 44.09375 48.828125 44.09375 54.296875 \r\nQ 44.09375 59.90625 40.109375 62.90625 \r\nQ 36.140625 65.921875 28.71875 65.921875 \r\nQ 24.65625 65.921875 20.015625 65.03125 \r\nQ 15.375 64.15625 9.8125 62.3125 \r\nL 9.8125 71.09375 \r\nQ 15.4375 72.65625 20.34375 73.4375 \r\nQ 25.25 74.21875 29.59375 74.21875 \r\nQ 40.828125 74.21875 47.359375 69.109375 \r\nQ 53.90625 64.015625 53.90625 55.328125 \r\nQ 53.90625 49.265625 50.4375 45.09375 \r\nQ 46.96875 40.921875 40.578125 39.3125 \r\nz\r\n\" id=\"DejaVuSans-51\"/>\r\n       </defs>\r\n       <use xlink:href=\"#DejaVuSans-51\"/>\r\n       <use x=\"63.623047\" xlink:href=\"#DejaVuSans-48\"/>\r\n      </g>\r\n     </g>\r\n    </g>\r\n    <g id=\"xtick_5\">\r\n     <g id=\"line2d_5\">\r\n      <g>\r\n       <use style=\"stroke:#000000;stroke-width:0.8;\" x=\"203.0514\" xlink:href=\"#m99c0ff60b5\" y=\"226.264819\"/>\r\n      </g>\r\n     </g>\r\n     <g id=\"text_5\">\r\n      <!-- 40 -->\r\n      <g transform=\"translate(196.6889 240.863256)scale(0.1 -0.1)\">\r\n       <defs>\r\n        <path d=\"M 37.796875 64.3125 \r\nL 12.890625 25.390625 \r\nL 37.796875 25.390625 \r\nz\r\nM 35.203125 72.90625 \r\nL 47.609375 72.90625 \r\nL 47.609375 25.390625 \r\nL 58.015625 25.390625 \r\nL 58.015625 17.1875 \r\nL 47.609375 17.1875 \r\nL 47.609375 0 \r\nL 37.796875 0 \r\nL 37.796875 17.1875 \r\nL 4.890625 17.1875 \r\nL 4.890625 26.703125 \r\nz\r\n\" id=\"DejaVuSans-52\"/>\r\n       </defs>\r\n       <use xlink:href=\"#DejaVuSans-52\"/>\r\n       <use x=\"63.623047\" xlink:href=\"#DejaVuSans-48\"/>\r\n      </g>\r\n     </g>\r\n    </g>\r\n   </g>\r\n   <g id=\"matplotlib.axis_2\">\r\n    <g id=\"ytick_1\">\r\n     <g id=\"line2d_6\">\r\n      <defs>\r\n       <path d=\"M 0 0 \r\nL -3.5 0 \r\n\" id=\"mc3d2b42216\" style=\"stroke:#000000;stroke-width:0.8;\"/>\r\n      </defs>\r\n      <g>\r\n       <use style=\"stroke:#000000;stroke-width:0.8;\" x=\"26.925\" xlink:href=\"#mc3d2b42216\" y=\"10.999219\"/>\r\n      </g>\r\n     </g>\r\n     <g id=\"text_6\">\r\n      <!-- 0 -->\r\n      <g transform=\"translate(13.5625 14.798437)scale(0.1 -0.1)\">\r\n       <use xlink:href=\"#DejaVuSans-48\"/>\r\n      </g>\r\n     </g>\r\n    </g>\r\n    <g id=\"ytick_2\">\r\n     <g id=\"line2d_7\">\r\n      <g>\r\n       <use style=\"stroke:#000000;stroke-width:0.8;\" x=\"26.925\" xlink:href=\"#mc3d2b42216\" y=\"54.487219\"/>\r\n      </g>\r\n     </g>\r\n     <g id=\"text_7\">\r\n      <!-- 10 -->\r\n      <g transform=\"translate(7.2 58.286437)scale(0.1 -0.1)\">\r\n       <use xlink:href=\"#DejaVuSans-49\"/>\r\n       <use x=\"63.623047\" xlink:href=\"#DejaVuSans-48\"/>\r\n      </g>\r\n     </g>\r\n    </g>\r\n    <g id=\"ytick_3\">\r\n     <g id=\"line2d_8\">\r\n      <g>\r\n       <use style=\"stroke:#000000;stroke-width:0.8;\" x=\"26.925\" xlink:href=\"#mc3d2b42216\" y=\"97.975219\"/>\r\n      </g>\r\n     </g>\r\n     <g id=\"text_8\">\r\n      <!-- 20 -->\r\n      <g transform=\"translate(7.2 101.774437)scale(0.1 -0.1)\">\r\n       <use xlink:href=\"#DejaVuSans-50\"/>\r\n       <use x=\"63.623047\" xlink:href=\"#DejaVuSans-48\"/>\r\n      </g>\r\n     </g>\r\n    </g>\r\n    <g id=\"ytick_4\">\r\n     <g id=\"line2d_9\">\r\n      <g>\r\n       <use style=\"stroke:#000000;stroke-width:0.8;\" x=\"26.925\" xlink:href=\"#mc3d2b42216\" y=\"141.463219\"/>\r\n      </g>\r\n     </g>\r\n     <g id=\"text_9\">\r\n      <!-- 30 -->\r\n      <g transform=\"translate(7.2 145.262437)scale(0.1 -0.1)\">\r\n       <use xlink:href=\"#DejaVuSans-51\"/>\r\n       <use x=\"63.623047\" xlink:href=\"#DejaVuSans-48\"/>\r\n      </g>\r\n     </g>\r\n    </g>\r\n    <g id=\"ytick_5\">\r\n     <g id=\"line2d_10\">\r\n      <g>\r\n       <use style=\"stroke:#000000;stroke-width:0.8;\" x=\"26.925\" xlink:href=\"#mc3d2b42216\" y=\"184.951219\"/>\r\n      </g>\r\n     </g>\r\n     <g id=\"text_10\">\r\n      <!-- 40 -->\r\n      <g transform=\"translate(7.2 188.750437)scale(0.1 -0.1)\">\r\n       <use xlink:href=\"#DejaVuSans-52\"/>\r\n       <use x=\"63.623047\" xlink:href=\"#DejaVuSans-48\"/>\r\n      </g>\r\n     </g>\r\n    </g>\r\n   </g>\r\n   <g id=\"patch_3\">\r\n    <path d=\"M 26.925 226.264819 \r\nL 26.925 8.824819 \r\n\" style=\"fill:none;stroke:#000000;stroke-linecap:square;stroke-linejoin:miter;stroke-width:0.8;\"/>\r\n   </g>\r\n   <g id=\"patch_4\">\r\n    <path d=\"M 244.365 226.264819 \r\nL 244.365 8.824819 \r\n\" style=\"fill:none;stroke:#000000;stroke-linecap:square;stroke-linejoin:miter;stroke-width:0.8;\"/>\r\n   </g>\r\n   <g id=\"patch_5\">\r\n    <path d=\"M 26.925 226.264819 \r\nL 244.365 226.264819 \r\n\" style=\"fill:none;stroke:#000000;stroke-linecap:square;stroke-linejoin:miter;stroke-width:0.8;\"/>\r\n   </g>\r\n   <g id=\"patch_6\">\r\n    <path d=\"M 26.925 8.824819 \r\nL 244.365 8.824819 \r\n\" style=\"fill:none;stroke:#000000;stroke-linecap:square;stroke-linejoin:miter;stroke-width:0.8;\"/>\r\n   </g>\r\n  </g>\r\n </g>\r\n <defs>\r\n  <clipPath id=\"p0cf7233418\">\r\n   <rect height=\"217.44\" width=\"217.44\" x=\"26.925\" y=\"8.824819\"/>\r\n  </clipPath>\r\n </defs>\r\n</svg>\r\n",
      "image/png": "[encoded data removed]"
     },
     "metadata": {
      "needs_background": "light"
     }
    }
   ],
   "source": [
    "img=keras.preprocessing.image.load_img('./images/bottle.jpg', grayscale=False, color_mode=\"rgb\", target_size=(50,50), interpolation=\"nearest\")\n",
    "plt.imshow(img)\n",
    "input_arr = keras.preprocessing.image.img_to_array(img)\n",
    "input_arr = np.array([input_arr])"
   ]
  },
  {
   "cell_type": "code",
   "execution_count": 89,
   "metadata": {},
   "outputs": [
    {
     "output_type": "stream",
     "name": "stdout",
     "text": [
      "PET\n"
     ]
    }
   ],
   "source": [
    "result=model.predict(input_arr)\n",
    "m= 0\n",
    "out= 0\n",
    "for i in result:\n",
    "    for g in range(len(i)):\n",
    "        if i[g]>m:\n",
    "            m=i[g]\n",
    "            out=g\n",
    "if out==0:\n",
    "    print('AluCan')\n",
    "elif out==1:\n",
    "    print('Glass')\n",
    "elif out==2:\n",
    "    print('HDPEM')\n",
    "elif out==3:\n",
    "    print('PET')\n",
    "else:\n",
    "    print('Error')"
   ]
  },
  {
   "cell_type": "code",
   "execution_count": null,
   "metadata": {},
   "outputs": [],
   "source": []
  }
 ]
}